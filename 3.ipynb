{
 "cells": [
  {
   "cell_type": "code",
   "execution_count": 1,
   "id": "49c7e825",
   "metadata": {},
   "outputs": [],
   "source": [
    "import pandas as pd\n",
    "import numpy as np\n",
    "import matplotlib.pyplot as plt\n",
    "import sys\n",
    "import IPython\n",
    "import sklearn\n",
    "import seaborn as sns"
   ]
  },
  {
   "cell_type": "code",
   "execution_count": 2,
   "id": "7ce6f7ce",
   "metadata": {},
   "outputs": [],
   "source": [
    "file = open ('./adult.data','r')"
   ]
  },
  {
   "cell_type": "code",
   "execution_count": 7,
   "id": "ab623895",
   "metadata": {},
   "outputs": [],
   "source": [
    "def chr_int(a):\n",
    "        if a.isnumeric():\n",
    "            return int(a)\n",
    "        else:\n",
    "            return a\n",
    "data=[]\n",
    "for line in file:\n",
    "        data1=line.split(',')\n",
    "        if len(data1)==15:\n",
    "            data.append([int(data1[0]),(data1[1]),\n",
    "                        int (data1[2]), data1[3],\n",
    "                        int (data1[4]), data1[5],\n",
    "                        data1[6], data1[7], data1[8],\n",
    "                        data1[9], int(data1[10]),\n",
    "                        int(data1[11]),\n",
    "                        int(data1[12]),\n",
    "                        data1[13],data1[14],\n",
    "                        ])"
   ]
  },
  {
   "cell_type": "code",
   "execution_count": null,
   "id": "7a633948",
   "metadata": {},
   "outputs": [],
   "source": []
  }
 ],
 "metadata": {
  "kernelspec": {
   "display_name": "Python 3 (ipykernel)",
   "language": "python",
   "name": "python3"
  },
  "language_info": {
   "codemirror_mode": {
    "name": "ipython",
    "version": 3
   },
   "file_extension": ".py",
   "mimetype": "text/x-python",
   "name": "python",
   "nbconvert_exporter": "python",
   "pygments_lexer": "ipython3",
   "version": "3.11.5"
  }
 },
 "nbformat": 4,
 "nbformat_minor": 5
}
