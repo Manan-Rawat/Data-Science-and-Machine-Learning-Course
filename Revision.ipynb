{
 "cells": [
  {
   "cell_type": "markdown",
   "id": "3cb7365d",
   "metadata": {},
   "source": [
    "<h3> Newton Raphson Method"
   ]
  },
  {
   "cell_type": "code",
   "execution_count": 15,
   "id": "55d784ae",
   "metadata": {},
   "outputs": [],
   "source": [
    "def f(x):\n",
    "    return x**2 - 5*x + 6"
   ]
  },
  {
   "cell_type": "code",
   "execution_count": 16,
   "id": "397c42cb",
   "metadata": {},
   "outputs": [],
   "source": [
    "def g(x):\n",
    "    return 2*x-5"
   ]
  },
  {
   "cell_type": "code",
   "execution_count": 27,
   "id": "e27f8521",
   "metadata": {},
   "outputs": [],
   "source": [
    "def NR(x):\n",
    "    x0 = 0\n",
    "    x1 = 1\n",
    "    while (x1-x0 > 0.00001):\n",
    "        x0 = x1\n",
    "        x1 = x0 - f(x0)/g(x0)\n",
    "        print (x1)\n",
    "    return x1"
   ]
  },
  {
   "cell_type": "code",
   "execution_count": 28,
   "id": "7d3f7497",
   "metadata": {},
   "outputs": [
    {
     "name": "stdout",
     "output_type": "stream",
     "text": [
      "1.6666666666666665\n",
      "1.9333333333333331\n",
      "1.9960784313725484\n",
      "1.9999847409781035\n",
      "1.9999999997671687\n",
      "2.0\n"
     ]
    },
    {
     "data": {
      "text/plain": [
       "2.0"
      ]
     },
     "execution_count": 28,
     "metadata": {},
     "output_type": "execute_result"
    }
   ],
   "source": [
    "NR(4)"
   ]
  },
  {
   "cell_type": "markdown",
   "id": "bb42440c",
   "metadata": {},
   "source": [
    "<h3> Find sum of all integers between 1 and 100 not divisible by 3 or 5"
   ]
  },
  {
   "cell_type": "code",
   "execution_count": 35,
   "id": "34c7a15a",
   "metadata": {},
   "outputs": [],
   "source": [
    "def sum():\n",
    "    s=0\n",
    "    for i in range(1,101):\n",
    "        if ((i%3!=0) and (i%5!=0) and (i%7!=0)):\n",
    "            s+=i\n",
    "    return s"
   ]
  },
  {
   "cell_type": "code",
   "execution_count": 36,
   "id": "bfd5ebb4",
   "metadata": {},
   "outputs": [
    {
     "data": {
      "text/plain": [
       "2212"
      ]
     },
     "execution_count": 36,
     "metadata": {},
     "output_type": "execute_result"
    }
   ],
   "source": [
    "sum()"
   ]
  },
  {
   "cell_type": "code",
   "execution_count": 68,
   "id": "8f934601",
   "metadata": {},
   "outputs": [],
   "source": [
    "def factors(k):\n",
    "    s=0\n",
    "    for i in range (1,k):\n",
    "        if (k%i==0):\n",
    "            print (i)\n",
    "            s+=i\n",
    "    print (s)"
   ]
  },
  {
   "cell_type": "code",
   "execution_count": 71,
   "id": "bdc4e509",
   "metadata": {},
   "outputs": [
    {
     "name": "stdout",
     "output_type": "stream",
     "text": [
      "1\n",
      "2\n",
      "4\n",
      "7\n",
      "14\n",
      "28\n"
     ]
    }
   ],
   "source": [
    "factors(28)"
   ]
  },
  {
   "cell_type": "markdown",
   "id": "d54353e0",
   "metadata": {},
   "source": [
    "<h3> Secant Method\n",
    "   "
   ]
  },
  {
   "cell_type": "code",
   "execution_count": 72,
   "id": "c01a6c9a",
   "metadata": {},
   "outputs": [],
   "source": [
    "def f(x):\n",
    "    return x**2 - 7*x + 12"
   ]
  },
  {
   "cell_type": "code",
   "execution_count": 124,
   "id": "0bda9441",
   "metadata": {},
   "outputs": [],
   "source": [
    "def sec():\n",
    "    x0 = 21\n",
    "    x1 = 33\n",
    "    x2 = 33\n",
    "    itr = 0\n",
    "    while ((abs(x2-x0)>0.00001)):\n",
    "        x2 = x1 - f(x1)*(x1 - x0)/(f(x1)-f(x0))\n",
    "        x0=x1\n",
    "        x1=x2\n",
    "        print (x0,x1,x2)\n",
    "    return x2"
   ]
  },
  {
   "cell_type": "code",
   "execution_count": 125,
   "id": "c46d0bc5",
   "metadata": {},
   "outputs": [
    {
     "name": "stdout",
     "output_type": "stream",
     "text": [
      "33 14.48936170212766 14.48936170212766\n",
      "14.48936170212766 11.512874408828166 11.512874408828166\n",
      "11.512874408828166 8.147157031241267 8.147157031241267\n",
      "8.147157031241267 6.461057863631453 6.461057863631453\n",
      "6.461057863631453 5.341496469865621 5.341496469865621\n",
      "5.341496469865621 4.687446764145732 4.687446764145732\n",
      "4.687446764145732 4.304465067871451 4.304465067871451\n",
      "4.304465067871451 4.10507670185968 4.10507670185968\n",
      "4.10507670185968 4.022696869188572 4.022696869188572\n",
      "4.022696869188572 4.002114708322752 4.002114708322752\n",
      "4.002114708322752 4.00004683520291 4.00004683520291\n",
      "4.00004683520291 4.000000098829169 4.000000098829169\n",
      "4.000000098829169 4.000000000004627 4.000000000004627\n"
     ]
    },
    {
     "data": {
      "text/plain": [
       "4.000000000004627"
      ]
     },
     "execution_count": 125,
     "metadata": {},
     "output_type": "execute_result"
    }
   ],
   "source": [
    "sec()"
   ]
  },
  {
   "cell_type": "code",
   "execution_count": null,
   "id": "6f5b3e4b",
   "metadata": {},
   "outputs": [],
   "source": []
  },
  {
   "cell_type": "code",
   "execution_count": null,
   "id": "d870f461",
   "metadata": {},
   "outputs": [],
   "source": []
  }
 ],
 "metadata": {
  "kernelspec": {
   "display_name": "Python 3 (ipykernel)",
   "language": "python",
   "name": "python3"
  },
  "language_info": {
   "codemirror_mode": {
    "name": "ipython",
    "version": 3
   },
   "file_extension": ".py",
   "mimetype": "text/x-python",
   "name": "python",
   "nbconvert_exporter": "python",
   "pygments_lexer": "ipython3",
   "version": "3.11.5"
  }
 },
 "nbformat": 4,
 "nbformat_minor": 5
}
